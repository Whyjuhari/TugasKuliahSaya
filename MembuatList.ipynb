{
 "cells": [
  {
   "cell_type": "code",
   "execution_count": 1,
   "metadata": {},
   "outputs": [
    {
     "name": "stdout",
     "output_type": "stream",
     "text": [
      "Before Remove List\n",
      "['Paquito', 'Lancelot', 'Hayabusa']\n",
      "Add element to list\n",
      "['Paquito', 'Lancelot', 'Hayabusa', 'Aldos']\n",
      "After Remove List\n",
      "['Lancelot', 'Hayabusa', 'Aldos']\n"
     ]
    }
   ],
   "source": [
    "def main():\n",
    "    hero = [\"Paquito\", \"Lancelot\", \"Hayabusa\"]\n",
    "    print(\"Before Remove List\")\n",
    "    print(hero)\n",
    "\n",
    "    # Add elemen list\n",
    "    print(\"Add element to list\")\n",
    "    hero.append('Aldos')\n",
    "    print(hero)\n",
    "\n",
    "    # Deleting / Remove Element In list\n",
    "    print(\"After Remove List\")\n",
    "    hero.remove('Paquito')\n",
    "    print(hero)\n",
    "if __name__ == \"__main__\":\n",
    "    main()"
   ]
  }
 ],
 "metadata": {
  "interpreter": {
   "hash": "ac59ebe37160ed0dfa835113d9b8498d9f09ceb179beaac4002f036b9467c963"
  },
  "kernelspec": {
   "display_name": "Python 3.9.7 64-bit",
   "name": "python3"
  },
  "language_info": {
   "codemirror_mode": {
    "name": "ipython",
    "version": 3
   },
   "file_extension": ".py",
   "mimetype": "text/x-python",
   "name": "python",
   "nbconvert_exporter": "python",
   "pygments_lexer": "ipython3",
   "version": "3.9.7"
  },
  "orig_nbformat": 4
 },
 "nbformat": 4,
 "nbformat_minor": 2
}
