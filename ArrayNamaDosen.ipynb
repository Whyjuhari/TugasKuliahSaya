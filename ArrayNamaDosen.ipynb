{
 "cells": [
  {
   "cell_type": "code",
   "execution_count": 1,
   "metadata": {},
   "outputs": [
    {
     "name": "stdout",
     "output_type": "stream",
     "text": [
      "[['Dr. Eng. Ir. ZULFAJRI BASRI HASANUDIN'], ['Ir, SUGIARTO COKROWIBOWO, S.SI., MT'], ['INDRA, S.Kom., MM'], ['IRFAN AP, ST., M.MT'], ['ISMAIL, S.Pd., M.Pd'], ['MUH. FAHMI RUSTAN, S.Kom., MT'], ['ARNITA IRIANTI, S.Si., M.Si'], ['ASMAWATI. S, S.Kom., M.Pd'], ['DIAN MEGAH SARI, S.Kom., M.Kom'], ['HELIAWATI HAMRUL, S.Kom., M.kom'], ['FARID WAJIDI, S.kom., MT'], ['NAHYA NUR, ST., M.Kom'], ['MUSYRIFAH, S.Pd., M.Pd'], ['SITI AULIA RACHMINI, ST., MT'], ['MUH. FUAD MANSYUR, S.Kom., M.Kom']]\n"
     ]
    }
   ],
   "source": [
    "import os\n",
    "os.system(\"clear\")\n",
    "nama_dosen = ([[[\"Dr. Eng. Ir. ZULFAJRI BASRI HASANUDIN\"],\n",
    "[\"Ir, SUGIARTO COKROWIBOWO, S.SI., MT\"],[\"INDRA, S.Kom., MM\"],\n",
    "[\"IRFAN AP, ST., M.MT\"],[\"ISMAIL, S.Pd., M.Pd\"],[\"MUH. FAHMI RUSTAN, S.Kom., MT\"],\n",
    "[\"ARNITA IRIANTI, S.Si., M.Si\"],[\"ASMAWATI. S, S.Kom., M.Pd\"],\n",
    "[\"DIAN MEGAH SARI, S.Kom., M.Kom\"],[\"HELIAWATI HAMRUL, S.Kom., M.kom\"],\n",
    "[\"FARID WAJIDI, S.kom., MT\"],[\"NAHYA NUR, ST., M.Kom\"],\n",
    "[\"MUSYRIFAH, S.Pd., M.Pd\"],[\"SITI AULIA RACHMINI, ST., MT\"],\n",
    "[\"MUH. FUAD MANSYUR, S.Kom., M.Kom\"]]])\n",
    "for dosen in nama_dosen:\n",
    "    print(dosen)"
   ]
  }
 ],
 "metadata": {
  "interpreter": {
   "hash": "ac59ebe37160ed0dfa835113d9b8498d9f09ceb179beaac4002f036b9467c963"
  },
  "kernelspec": {
   "display_name": "Python 3.9.7 64-bit",
   "name": "python3"
  },
  "language_info": {
   "codemirror_mode": {
    "name": "ipython",
    "version": 3
   },
   "file_extension": ".py",
   "mimetype": "text/x-python",
   "name": "python",
   "nbconvert_exporter": "python",
   "pygments_lexer": "ipython3",
   "version": "3.9.7"
  },
  "orig_nbformat": 4
 },
 "nbformat": 4,
 "nbformat_minor": 2
}
