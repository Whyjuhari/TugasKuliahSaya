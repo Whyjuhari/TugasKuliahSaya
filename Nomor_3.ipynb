{
 "cells": [
  {
   "cell_type": "code",
   "execution_count": 5,
   "metadata": {},
   "outputs": [
    {
     "name": "stdout",
     "output_type": "stream",
     "text": [
      "Sebelum Dipertukarkan\n",
      "x y z : 5 3 7\n",
      "Setelah Dipertukarkan\n",
      "y z x : 3 7 5\n"
     ]
    }
   ],
   "source": [
    "x = 5\n",
    "y = 3\n",
    "z = 7\n",
    "\n",
    "print(\"Sebelum Dipertukarkan\")\n",
    "print('x', 'y', 'z :',x, y, z)\n",
    "\n",
    "print(\"Setelah Dipertukarkan\")\n",
    "x, y, z = y, z, x\n",
    "print('y', 'z', 'x :',x, y, z)"
   ]
  }
 ],
 "metadata": {
  "interpreter": {
   "hash": "ac59ebe37160ed0dfa835113d9b8498d9f09ceb179beaac4002f036b9467c963"
  },
  "kernelspec": {
   "display_name": "Python 3.9.7 64-bit",
   "name": "python3"
  },
  "language_info": {
   "codemirror_mode": {
    "name": "ipython",
    "version": 3
   },
   "file_extension": ".py",
   "mimetype": "text/x-python",
   "name": "python",
   "nbconvert_exporter": "python",
   "pygments_lexer": "ipython3",
   "version": "3.9.7"
  },
  "orig_nbformat": 4
 },
 "nbformat": 4,
 "nbformat_minor": 2
}
